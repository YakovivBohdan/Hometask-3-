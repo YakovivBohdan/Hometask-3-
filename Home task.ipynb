{
 "cells": [
  {
   "cell_type": "code",
   "execution_count": 306,
   "id": "28b798a8",
   "metadata": {},
   "outputs": [
    {
     "ename": "SyntaxError",
     "evalue": "(unicode error) 'unicodeescape' codec can't decode bytes in position 2-3: truncated \\UXXXXXXXX escape (Temp/ipykernel_9876/3519956613.py, line 5)",
     "output_type": "error",
     "traceback": [
      "\u001b[1;36m  File \u001b[1;32m\"C:\\Users\\Chip\\AppData\\Local\\Temp/ipykernel_9876/3519956613.py\"\u001b[1;36m, line \u001b[1;32m5\u001b[0m\n\u001b[1;33m    path = os.path.join(cwd,'C:\\Users\\Chip\\Desktop\\Jupyter\\'Energy Indicators.xls')\u001b[0m\n\u001b[1;37m                                                                                  ^\u001b[0m\n\u001b[1;31mSyntaxError\u001b[0m\u001b[1;31m:\u001b[0m (unicode error) 'unicodeescape' codec can't decode bytes in position 2-3: truncated \\UXXXXXXXX escape\n"
     ]
    }
   ],
   "source": [
    "import os\n",
    "import pandas as pd \n",
    "import numpy as np\n",
    "cwd= os.getcwd()\n",
    "path = os.path.join(cwd,'C:\\Users\\Chip\\Desktop\\Jupyter\\'Energy Indicators.xls')"
   ]
  },
  {
   "cell_type": "code",
   "execution_count": 307,
   "id": "038c9376",
   "metadata": {
    "scrolled": false
   },
   "outputs": [],
   "source": [
    "file_name= 'Energy Indicators.xls'\n",
    "\n",
    "energy= pd.read_excel(file_name,skiprows= (17),skipfooter=(38),usecols=range(2,6))\n"
   ]
  },
  {
   "cell_type": "code",
   "execution_count": 308,
   "id": "fcfa7f24",
   "metadata": {
    "scrolled": true
   },
   "outputs": [],
   "source": [
    "energy=energy.rename(columns={'Unnamed: 2':'Country','Petajoules':'Energy Supply','Gigajoules':'Energy Supply per Capita','%':'% Renewable'})\n"
   ]
  },
  {
   "cell_type": "code",
   "execution_count": 309,
   "id": "303076e0",
   "metadata": {
    "scrolled": true
   },
   "outputs": [],
   "source": [
    "a=range(0,226)\n",
    "energy.loc[a,'Energy Supply']*= 1000000\n"
   ]
  },
  {
   "cell_type": "code",
   "execution_count": 310,
   "id": "7c269529",
   "metadata": {},
   "outputs": [],
   "source": [
    "energy.loc['Republic of Korea','Country']='South Korea'\n",
    "energy.loc['United States of America','Country']='United States'\n",
    "energy.loc['United Kingdom of Great Britain and Northern Ireland','Country']='United Kingdom'\n",
    "energy.loc['China, Hong Kong Special Administrative Region','Country']='Hong Kong'\n"
   ]
  },
  {
   "cell_type": "code",
   "execution_count": 311,
   "id": "a17f03bf",
   "metadata": {},
   "outputs": [
    {
     "ename": "SyntaxError",
     "evalue": "(unicode error) 'unicodeescape' codec can't decode bytes in position 2-3: truncated \\UXXXXXXXX escape (Temp/ipykernel_9876/52938068.py, line 1)",
     "output_type": "error",
     "traceback": [
      "\u001b[1;36m  File \u001b[1;32m\"C:\\Users\\Chip\\AppData\\Local\\Temp/ipykernel_9876/52938068.py\"\u001b[1;36m, line \u001b[1;32m1\u001b[0m\n\u001b[1;33m    path = os.path.join(cwd,'C:\\Users\\Chip\\Desktop\\Jupyter\\'API_NY.GDP.MKTP.CD_DS2_en_csv_v2_3358362.csv')\u001b[0m\n\u001b[1;37m                                                                                                         ^\u001b[0m\n\u001b[1;31mSyntaxError\u001b[0m\u001b[1;31m:\u001b[0m (unicode error) 'unicodeescape' codec can't decode bytes in position 2-3: truncated \\UXXXXXXXX escape\n"
     ]
    }
   ],
   "source": [
    "path = os.path.join(cwd,'C:\\Users\\Chip\\Desktop\\Jupyter\\'API_NY.GDP.MKTP.CD_DS2_en_csv_v2_3358362.csv')"
   ]
  },
  {
   "cell_type": "code",
   "execution_count": 312,
   "id": "7df75d96",
   "metadata": {
    "scrolled": true
   },
   "outputs": [],
   "source": [
    "\n",
    "file_name= 'API_NY.GDP.MKTP.CD_DS2_en_csv_v2_3358362.csv'\n",
    "\n",
    "GPD = pd.read_csv(file_name, sep = ',',usecols=range(60),\n",
    "                 dtype = None, skiprows=4)\n"
   ]
  },
  {
   "cell_type": "code",
   "execution_count": 313,
   "id": "55cb4c35",
   "metadata": {},
   "outputs": [],
   "source": [
    "GPD=GPD.rename(columns={'Country Name':'Country'})"
   ]
  },
  {
   "cell_type": "code",
   "execution_count": 314,
   "id": "ed521162",
   "metadata": {},
   "outputs": [],
   "source": [
    "GPD.loc['Korea, Rep.','Country']='South Korea'\n",
    "GPD.loc['Iran, Islamic Rep.','Country']='Iran'\n",
    "GPD.loc['Hong Kong SAR, China','Country']='Hong Kong'"
   ]
  },
  {
   "cell_type": "code",
   "execution_count": 315,
   "id": "dc598b84",
   "metadata": {},
   "outputs": [
    {
     "ename": "SyntaxError",
     "evalue": "(unicode error) 'unicodeescape' codec can't decode bytes in position 2-3: truncated \\UXXXXXXXX escape (Temp/ipykernel_9876/1341428947.py, line 1)",
     "output_type": "error",
     "traceback": [
      "\u001b[1;36m  File \u001b[1;32m\"C:\\Users\\Chip\\AppData\\Local\\Temp/ipykernel_9876/1341428947.py\"\u001b[1;36m, line \u001b[1;32m1\u001b[0m\n\u001b[1;33m    path = os.path.join(cwd,'C:\\Users\\Chip\\Desktop\\Jupyter\\'scimagojr country rank 1996-2020.xlsx')\u001b[0m\n\u001b[1;37m                                                                                                  ^\u001b[0m\n\u001b[1;31mSyntaxError\u001b[0m\u001b[1;31m:\u001b[0m (unicode error) 'unicodeescape' codec can't decode bytes in position 2-3: truncated \\UXXXXXXXX escape\n"
     ]
    }
   ],
   "source": [
    "path = os.path.join(cwd,'C:\\Users\\Chip\\Desktop\\Jupyter\\'scimagojr country rank 1996-2020.xlsx')"
   ]
  },
  {
   "cell_type": "code",
   "execution_count": 316,
   "id": "235e7297",
   "metadata": {},
   "outputs": [],
   "source": [
    "file_name= 'scimagojr country rank 1996-2020.xlsx'\n",
    "\n",
    "ScimEn= pd.read_excel(file_name)\n"
   ]
  },
  {
   "cell_type": "code",
   "execution_count": 317,
   "id": "e9bae7fd",
   "metadata": {},
   "outputs": [],
   "source": [
    "ScimEn15= pd.read_excel(file_name,skipfooter=(193))"
   ]
  },
  {
   "cell_type": "code",
   "execution_count": 318,
   "id": "5be52f30",
   "metadata": {
    "scrolled": true
   },
   "outputs": [],
   "source": [
    "df=pd.merge (ScimEn15, energy,  on = 'Country')\n",
    "\n"
   ]
  },
  {
   "cell_type": "code",
   "execution_count": 319,
   "id": "bbfeed5b",
   "metadata": {},
   "outputs": [
    {
     "data": {
      "text/html": [
       "<div>\n",
       "<style scoped>\n",
       "    .dataframe tbody tr th:only-of-type {\n",
       "        vertical-align: middle;\n",
       "    }\n",
       "\n",
       "    .dataframe tbody tr th {\n",
       "        vertical-align: top;\n",
       "    }\n",
       "\n",
       "    .dataframe thead th {\n",
       "        text-align: right;\n",
       "    }\n",
       "</style>\n",
       "<table border=\"1\" class=\"dataframe\">\n",
       "  <thead>\n",
       "    <tr style=\"text-align: right;\">\n",
       "      <th></th>\n",
       "      <th>Rank</th>\n",
       "      <th>Country</th>\n",
       "      <th>Region</th>\n",
       "      <th>Documents</th>\n",
       "      <th>Citable documents</th>\n",
       "      <th>Citations</th>\n",
       "      <th>Self-citations</th>\n",
       "      <th>Citations per document</th>\n",
       "      <th>H index</th>\n",
       "      <th>Energy Supply</th>\n",
       "      <th>...</th>\n",
       "      <th>2006</th>\n",
       "      <th>2007</th>\n",
       "      <th>2008</th>\n",
       "      <th>2009</th>\n",
       "      <th>2010</th>\n",
       "      <th>2011</th>\n",
       "      <th>2012</th>\n",
       "      <th>2013</th>\n",
       "      <th>2014</th>\n",
       "      <th>2015</th>\n",
       "    </tr>\n",
       "  </thead>\n",
       "  <tbody>\n",
       "    <tr>\n",
       "      <th>0</th>\n",
       "      <td>2</td>\n",
       "      <td>United States</td>\n",
       "      <td>Northern America</td>\n",
       "      <td>175891</td>\n",
       "      <td>172431</td>\n",
       "      <td>2230544</td>\n",
       "      <td>724472</td>\n",
       "      <td>12.68</td>\n",
       "      <td>363</td>\n",
       "      <td>NaN</td>\n",
       "      <td>...</td>\n",
       "      <td>1.381461e+13</td>\n",
       "      <td>1.445186e+13</td>\n",
       "      <td>1.471284e+13</td>\n",
       "      <td>1.444893e+13</td>\n",
       "      <td>1.499205e+13</td>\n",
       "      <td>1.554258e+13</td>\n",
       "      <td>1.619701e+13</td>\n",
       "      <td>1.678485e+13</td>\n",
       "      <td>1.752716e+13</td>\n",
       "      <td>1.823830e+13</td>\n",
       "    </tr>\n",
       "    <tr>\n",
       "      <th>1</th>\n",
       "      <td>3</td>\n",
       "      <td>India</td>\n",
       "      <td>Asiatic Region</td>\n",
       "      <td>55082</td>\n",
       "      <td>53775</td>\n",
       "      <td>463165</td>\n",
       "      <td>162944</td>\n",
       "      <td>8.41</td>\n",
       "      <td>181</td>\n",
       "      <td>33195000000</td>\n",
       "      <td>...</td>\n",
       "      <td>9.402599e+11</td>\n",
       "      <td>1.216735e+12</td>\n",
       "      <td>1.198896e+12</td>\n",
       "      <td>1.341887e+12</td>\n",
       "      <td>1.675615e+12</td>\n",
       "      <td>1.823050e+12</td>\n",
       "      <td>1.827638e+12</td>\n",
       "      <td>1.856722e+12</td>\n",
       "      <td>2.039127e+12</td>\n",
       "      <td>2.103588e+12</td>\n",
       "    </tr>\n",
       "    <tr>\n",
       "      <th>2</th>\n",
       "      <td>5</td>\n",
       "      <td>United Kingdom</td>\n",
       "      <td>Western Europe</td>\n",
       "      <td>43389</td>\n",
       "      <td>42284</td>\n",
       "      <td>615670</td>\n",
       "      <td>111290</td>\n",
       "      <td>14.19</td>\n",
       "      <td>226</td>\n",
       "      <td>NaN</td>\n",
       "      <td>...</td>\n",
       "      <td>2.706015e+12</td>\n",
       "      <td>3.093407e+12</td>\n",
       "      <td>2.921432e+12</td>\n",
       "      <td>2.412390e+12</td>\n",
       "      <td>2.481580e+12</td>\n",
       "      <td>2.659882e+12</td>\n",
       "      <td>2.704017e+12</td>\n",
       "      <td>2.783251e+12</td>\n",
       "      <td>3.065521e+12</td>\n",
       "      <td>2.932785e+12</td>\n",
       "    </tr>\n",
       "    <tr>\n",
       "      <th>3</th>\n",
       "      <td>6</td>\n",
       "      <td>Germany</td>\n",
       "      <td>Western Europe</td>\n",
       "      <td>38739</td>\n",
       "      <td>38013</td>\n",
       "      <td>433148</td>\n",
       "      <td>95145</td>\n",
       "      <td>11.18</td>\n",
       "      <td>196</td>\n",
       "      <td>13261000000</td>\n",
       "      <td>...</td>\n",
       "      <td>2.992197e+12</td>\n",
       "      <td>3.421229e+12</td>\n",
       "      <td>3.730028e+12</td>\n",
       "      <td>3.397791e+12</td>\n",
       "      <td>3.396354e+12</td>\n",
       "      <td>3.744409e+12</td>\n",
       "      <td>3.527345e+12</td>\n",
       "      <td>3.732743e+12</td>\n",
       "      <td>3.883920e+12</td>\n",
       "      <td>3.356236e+12</td>\n",
       "    </tr>\n",
       "    <tr>\n",
       "      <th>4</th>\n",
       "      <td>7</td>\n",
       "      <td>Russian Federation</td>\n",
       "      <td>Eastern Europe</td>\n",
       "      <td>36735</td>\n",
       "      <td>36560</td>\n",
       "      <td>115938</td>\n",
       "      <td>54993</td>\n",
       "      <td>3.16</td>\n",
       "      <td>90</td>\n",
       "      <td>30709000000</td>\n",
       "      <td>...</td>\n",
       "      <td>9.899305e+11</td>\n",
       "      <td>1.299706e+12</td>\n",
       "      <td>1.660846e+12</td>\n",
       "      <td>1.222644e+12</td>\n",
       "      <td>1.524917e+12</td>\n",
       "      <td>2.045926e+12</td>\n",
       "      <td>2.208296e+12</td>\n",
       "      <td>2.292473e+12</td>\n",
       "      <td>2.059242e+12</td>\n",
       "      <td>1.363481e+12</td>\n",
       "    </tr>\n",
       "    <tr>\n",
       "      <th>5</th>\n",
       "      <td>8</td>\n",
       "      <td>Canada</td>\n",
       "      <td>Northern America</td>\n",
       "      <td>33472</td>\n",
       "      <td>32863</td>\n",
       "      <td>568080</td>\n",
       "      <td>100953</td>\n",
       "      <td>16.97</td>\n",
       "      <td>227</td>\n",
       "      <td>10431000000</td>\n",
       "      <td>...</td>\n",
       "      <td>1.319265e+12</td>\n",
       "      <td>1.468820e+12</td>\n",
       "      <td>1.552990e+12</td>\n",
       "      <td>1.374625e+12</td>\n",
       "      <td>1.617343e+12</td>\n",
       "      <td>1.793327e+12</td>\n",
       "      <td>1.828366e+12</td>\n",
       "      <td>1.846597e+12</td>\n",
       "      <td>1.805750e+12</td>\n",
       "      <td>1.556509e+12</td>\n",
       "    </tr>\n",
       "    <tr>\n",
       "      <th>6</th>\n",
       "      <td>10</td>\n",
       "      <td>South Korea</td>\n",
       "      <td>Asiatic Region</td>\n",
       "      <td>27655</td>\n",
       "      <td>27445</td>\n",
       "      <td>328488</td>\n",
       "      <td>61531</td>\n",
       "      <td>11.88</td>\n",
       "      <td>155</td>\n",
       "      <td>NaN</td>\n",
       "      <td>...</td>\n",
       "      <td>NaN</td>\n",
       "      <td>NaN</td>\n",
       "      <td>NaN</td>\n",
       "      <td>NaN</td>\n",
       "      <td>NaN</td>\n",
       "      <td>NaN</td>\n",
       "      <td>NaN</td>\n",
       "      <td>NaN</td>\n",
       "      <td>NaN</td>\n",
       "      <td>NaN</td>\n",
       "    </tr>\n",
       "    <tr>\n",
       "      <th>7</th>\n",
       "      <td>14</td>\n",
       "      <td>Brazil</td>\n",
       "      <td>Latin America</td>\n",
       "      <td>21524</td>\n",
       "      <td>21236</td>\n",
       "      <td>183915</td>\n",
       "      <td>45172</td>\n",
       "      <td>8.54</td>\n",
       "      <td>127</td>\n",
       "      <td>12149000000</td>\n",
       "      <td>...</td>\n",
       "      <td>1.107640e+12</td>\n",
       "      <td>1.397084e+12</td>\n",
       "      <td>1.695825e+12</td>\n",
       "      <td>1.667020e+12</td>\n",
       "      <td>2.208872e+12</td>\n",
       "      <td>2.616201e+12</td>\n",
       "      <td>2.465189e+12</td>\n",
       "      <td>2.472807e+12</td>\n",
       "      <td>2.455994e+12</td>\n",
       "      <td>1.802214e+12</td>\n",
       "    </tr>\n",
       "  </tbody>\n",
       "</table>\n",
       "<p>8 rows × 71 columns</p>\n",
       "</div>"
      ],
      "text/plain": [
       "   Rank             Country            Region  Documents  Citable documents  \\\n",
       "0     2       United States  Northern America     175891             172431   \n",
       "1     3               India    Asiatic Region      55082              53775   \n",
       "2     5      United Kingdom    Western Europe      43389              42284   \n",
       "3     6             Germany    Western Europe      38739              38013   \n",
       "4     7  Russian Federation    Eastern Europe      36735              36560   \n",
       "5     8              Canada  Northern America      33472              32863   \n",
       "6    10         South Korea    Asiatic Region      27655              27445   \n",
       "7    14              Brazil     Latin America      21524              21236   \n",
       "\n",
       "   Citations  Self-citations  Citations per document  H index Energy Supply  \\\n",
       "0    2230544          724472                   12.68      363           NaN   \n",
       "1     463165          162944                    8.41      181   33195000000   \n",
       "2     615670          111290                   14.19      226           NaN   \n",
       "3     433148           95145                   11.18      196   13261000000   \n",
       "4     115938           54993                    3.16       90   30709000000   \n",
       "5     568080          100953                   16.97      227   10431000000   \n",
       "6     328488           61531                   11.88      155           NaN   \n",
       "7     183915           45172                    8.54      127   12149000000   \n",
       "\n",
       "   ...          2006          2007          2008          2009          2010  \\\n",
       "0  ...  1.381461e+13  1.445186e+13  1.471284e+13  1.444893e+13  1.499205e+13   \n",
       "1  ...  9.402599e+11  1.216735e+12  1.198896e+12  1.341887e+12  1.675615e+12   \n",
       "2  ...  2.706015e+12  3.093407e+12  2.921432e+12  2.412390e+12  2.481580e+12   \n",
       "3  ...  2.992197e+12  3.421229e+12  3.730028e+12  3.397791e+12  3.396354e+12   \n",
       "4  ...  9.899305e+11  1.299706e+12  1.660846e+12  1.222644e+12  1.524917e+12   \n",
       "5  ...  1.319265e+12  1.468820e+12  1.552990e+12  1.374625e+12  1.617343e+12   \n",
       "6  ...           NaN           NaN           NaN           NaN           NaN   \n",
       "7  ...  1.107640e+12  1.397084e+12  1.695825e+12  1.667020e+12  2.208872e+12   \n",
       "\n",
       "           2011          2012          2013          2014          2015  \n",
       "0  1.554258e+13  1.619701e+13  1.678485e+13  1.752716e+13  1.823830e+13  \n",
       "1  1.823050e+12  1.827638e+12  1.856722e+12  2.039127e+12  2.103588e+12  \n",
       "2  2.659882e+12  2.704017e+12  2.783251e+12  3.065521e+12  2.932785e+12  \n",
       "3  3.744409e+12  3.527345e+12  3.732743e+12  3.883920e+12  3.356236e+12  \n",
       "4  2.045926e+12  2.208296e+12  2.292473e+12  2.059242e+12  1.363481e+12  \n",
       "5  1.793327e+12  1.828366e+12  1.846597e+12  1.805750e+12  1.556509e+12  \n",
       "6           NaN           NaN           NaN           NaN           NaN  \n",
       "7  2.616201e+12  2.465189e+12  2.472807e+12  2.455994e+12  1.802214e+12  \n",
       "\n",
       "[8 rows x 71 columns]"
      ]
     },
     "execution_count": 319,
     "metadata": {},
     "output_type": "execute_result"
    }
   ],
   "source": [
    "df2=pd.merge(df,GPD,on='Country')\n",
    "df2       #answer to the first"
   ]
  },
  {
   "cell_type": "code",
   "execution_count": 324,
   "id": "96646ca4",
   "metadata": {
    "scrolled": true
   },
   "outputs": [
    {
     "name": "stdout",
     "output_type": "stream",
     "text": [
      "17013785296650.57\n"
     ]
    }
   ],
   "source": [
    "data=GPD\n",
    "a=50\n",
    "b=0\n",
    "avrg=0\n",
    "ser=pd.Series(range(266))\n",
    "riz=pd.Series(range(266))\n",
    "for b in range(0, 265):\n",
    "    for a in range(50, 60):\n",
    "        avrg+=data.iloc[b,a]\n",
    "        \n",
    "    ser.iloc[b]=avrg/10\n",
    "    \n",
    "   # riz.iloc[b]=data.iloc[b,60]-data.iloc[b,50]\n",
    "    avrg=0\n",
    "    rizn=0\n",
    "ser=ser.sort_values(ascending=False,na_position='last')\n",
    "a=0\n",
    "for a in range(0,265):\n",
    "    if np.isnan(ser[a]):\n",
    "        ser.drop(ser.index[a])\n",
    "answ=pd.Series(range(15))\n",
    "for b in range(0,15):\n",
    "    answ.iloc[b]=ser.iloc[b]\n",
    "print(answ2)              #answer to the second\n",
    "\n"
   ]
  },
  {
   "cell_type": "code",
   "execution_count": 326,
   "id": "6527c3b6",
   "metadata": {},
   "outputs": [
    {
     "data": {
      "text/plain": [
       "17013785296650.57"
      ]
     },
     "execution_count": 326,
     "metadata": {},
     "output_type": "execute_result"
    }
   ],
   "source": [
    "def find(s, el):\n",
    "    for i in s.index:\n",
    "        if s[i] == el: \n",
    "            return i\n",
    "    return None\n",
    "a=find(ser, answ.iloc[6])\n",
    "answ3=data.iloc[a,59]-data.iloc[a,49]\n",
    "answ3               #answer to the third "
   ]
  },
  {
   "cell_type": "code",
   "execution_count": null,
   "id": "a6188e36",
   "metadata": {},
   "outputs": [],
   "source": []
  }
 ],
 "metadata": {
  "kernelspec": {
   "display_name": "Python 3 (ipykernel)",
   "language": "python",
   "name": "python3"
  },
  "language_info": {
   "codemirror_mode": {
    "name": "ipython",
    "version": 3
   },
   "file_extension": ".py",
   "mimetype": "text/x-python",
   "name": "python",
   "nbconvert_exporter": "python",
   "pygments_lexer": "ipython3",
   "version": "3.9.7"
  }
 },
 "nbformat": 4,
 "nbformat_minor": 5
}
